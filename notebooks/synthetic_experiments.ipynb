{
 "cells": [
  {
   "cell_type": "markdown",
   "id": "60b9cc4f",
   "metadata": {},
   "source": [
    "# Synthetic Experiments"
   ]
  },
  {
   "cell_type": "markdown",
   "id": "f337217b",
   "metadata": {},
   "source": [
    "### Sample purchased baskets\n",
    "\n",
    "### Modelling\n",
    "\n",
    "### Results"
   ]
  },
  {
   "cell_type": "markdown",
   "id": "1089cdb5",
   "metadata": {},
   "source": []
  }
 ],
 "metadata": {
  "language_info": {
   "name": "python"
  }
 },
 "nbformat": 4,
 "nbformat_minor": 5
}
