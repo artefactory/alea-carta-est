{
 "cells": [
  {
   "cell_type": "markdown",
   "id": "0",
   "metadata": {},
   "source": [
    "# Synthetic Experiments"
   ]
  },
  {
   "cell_type": "markdown",
   "id": "1",
   "metadata": {},
   "source": [
    "## Sample synthetic data"
   ]
  },
  {
   "cell_type": "code",
   "execution_count": null,
   "id": "2",
   "metadata": {},
   "outputs": [],
   "source": [
    "import sys\n",
    "sys.path.append(\"../\")\n",
    "\n",
    "import matplotlib.pyplot as plt\n",
    "import numpy as np\n",
    "\n",
    "import choice_learn\n",
    "from python.data import SyntheticDataGenerator\n",
    "from choice_learn.basket_models import Trip, TripDataset"
   ]
  },
  {
   "cell_type": "code",
   "execution_count": null,
   "id": "ba1b8457",
   "metadata": {},
   "outputs": [],
   "source": []
  },
  {
   "cell_type": "markdown",
   "id": "3",
   "metadata": {},
   "source": [
    "## Sample purchased baskets"
   ]
  },
  {
   "cell_type": "code",
   "execution_count": null,
   "id": "4",
   "metadata": {},
   "outputs": [],
   "source": [
    "items_nests = {0:[0, 1, 2],\n",
    "1: [3, 4, 5],\n",
    "2: [6],\n",
    "3: [7]}\n",
    "\n",
    "nests_interactions = [[\"\", \"compl\", \"neutral\", \"neutral\"],\n",
    "[\"compl\", \"\", \"neutral\", \"neutral\"],\n",
    "[\"neutral\", \"neutral\", \"\", \"neutral\"],\n",
    "[\"neutral\", \"neutral\", \"neutral\", \"\"]]\n",
    "\n",
    "data_gen = SyntheticDataGenerator(items_nest=items_nests, nests_interactions=nests_interactions)"
   ]
  },
  {
   "cell_type": "code",
   "execution_count": null,
   "id": "5",
   "metadata": {},
   "outputs": [],
   "source": [
    "dataset = data_gen.generate_dataset(n_baskets=1000)"
   ]
  },
  {
   "cell_type": "code",
   "execution_count": null,
   "id": "6",
   "metadata": {},
   "outputs": [],
   "source": [
    "trip_list = []\n",
    "for basket in dataset:\n",
    "    trip_list.append(Trip(purchases=basket, prices=np.zeros((8, )), assortment=0))\n",
    "\n",
    "trip_dataset = TripDataset(trips=trip_list, available_items=np.ones((1, 8)))"
   ]
  },
  {
   "cell_type": "markdown",
   "id": "7",
   "metadata": {},
   "source": [
    "## Modelling "
   ]
  },
  {
   "cell_type": "code",
   "execution_count": null,
   "id": "8",
   "metadata": {},
   "outputs": [],
   "source": [
    "from choice_learn.basket_models import AleaCarta, Shopper"
   ]
  },
  {
   "cell_type": "code",
   "execution_count": null,
   "id": "9",
   "metadata": {},
   "outputs": [],
   "source": [
    "latent_sizes = {\"preferences\": 6, \"price\": 3, \"season\": 3}\n",
    "n_negative_samples = 2\n",
    "optimizer = \"adam\"\n",
    "lr = 5e-4\n",
    "epochs = 50\n",
    "batch_size = 32\n",
    "\n",
    "aleacarta = AleaCarta(\n",
    "    item_intercept=False,\n",
    "    price_effects=False,\n",
    "    seasonal_effects=False,\n",
    "    latent_sizes=latent_sizes,\n",
    "    n_negative_samples=n_negative_samples,\n",
    "    optimizer=optimizer,\n",
    "    lr=lr,\n",
    "    epochs=epochs,\n",
    "    batch_size=batch_size,\n",
    ")\n",
    "\n",
    "aleacarta.instantiate(n_items=8, n_stores=2)"
   ]
  },
  {
   "cell_type": "code",
   "execution_count": null,
   "id": "10",
   "metadata": {},
   "outputs": [],
   "source": [
    "history = aleacarta.fit(trip_dataset)"
   ]
  },
  {
   "cell_type": "code",
   "execution_count": null,
   "id": "11",
   "metadata": {},
   "outputs": [],
   "source": [
    "plt.plot(history[\"train_loss\"])\n",
    "plt.xlabel(\"Epoch\")\n",
    "plt.ylabel(\"Training Loss\")\n",
    "plt.show()"
   ]
  },
  {
   "cell_type": "code",
   "execution_count": null,
   "id": "12",
   "metadata": {},
   "outputs": [],
   "source": [
    "latent_sizes = {\"preferences\": 6, \"price\": 3, \"season\": 3}\n",
    "n_negative_samples = 2\n",
    "optimizer = \"adam\"\n",
    "lr = 5e-4\n",
    "epochs = 50\n",
    "batch_size = 32\n",
    "\n",
    "trip_list = []\n",
    "for basket in dataset:\n",
    "    trip_list.append(Trip(purchases=np.array(basket+[-1])+1, prices=np.zeros((9, )), assortment=0))\n",
    "\n",
    "shopper_trip_dataset = TripDataset(trips=trip_list, available_items=np.ones((1, 9)))\n",
    "\n",
    "shopper = Shopper(\n",
    "    item_intercept=False,\n",
    "    price_effects=False,\n",
    "    seasonal_effects=False,\n",
    "    think_ahead=False,\n",
    "    latent_sizes=latent_sizes,\n",
    "    n_negative_samples=n_negative_samples,\n",
    "    optimizer=optimizer,\n",
    "    lr=lr,\n",
    "    epochs=epochs,\n",
    "    batch_size=batch_size,\n",
    ")\n",
    "\n",
    "shopper.instantiate(n_items=9, n_stores=1)\n",
    "history = shopper.fit(shopper_trip_dataset)\n",
    "plt.plot(history[\"train_loss\"])\n",
    "plt.xlabel(\"Epoch\")\n",
    "plt.ylabel(\"Training Loss\")\n",
    "plt.show()"
   ]
  },
  {
   "cell_type": "markdown",
   "id": "13",
   "metadata": {},
   "source": [
    "## Results"
   ]
  },
  {
   "cell_type": "code",
   "execution_count": null,
   "id": "14",
   "metadata": {},
   "outputs": [],
   "source": [
    "import matplotlib.pyplot as plt\n",
    "import matplotlib as mpl\n",
    "import numpy as np\n",
    "\n",
    "\n",
    "mask = np.ones((8,8), dtype=bool)\n",
    "alea_results = []\n",
    "shopper_results = []\n",
    "for i in range(8):\n",
    "        r_1 = aleacarta.compute_batch_utility(item_batch=np.array(list(range(8))),\n",
    "                basket_batch=np.array([[i] for _ in range(8)]) ,\n",
    "                store_batch=np.array([0, 0, 0, 0, 0, 0, 0, 0]),\n",
    "                week_batch=np.array([0, 0, 0, 0, 0, 0, 0, 0]),\n",
    "                price_batch=np.array([[0, 0, 0, 0, 0, 0] for _ in range(8)]))\n",
    "\n",
    "        r_2 = shopper.compute_batch_utility(item_batch=np.array(list(range(1, 9))),\n",
    "                basket_batch=np.array([[i+1] for _ in range(8)]) ,\n",
    "                available_item_batch=np.ones((9, 1)),\n",
    "                store_batch=np.array([0, 0, 0, 0, 0, 0, 0, 0]),\n",
    "                week_batch=np.array([0, 0, 0, 0, 0, 0, 0, 0]),\n",
    "                price_batch=np.array([[0, 0, 0, 0, 0, 0] for _ in range(8)]))\n",
    "        m = np.ones(8)\n",
    "        m[i] = 0\n",
    "        den = np.exp(r_1) * m\n",
    "        r_1 = den / den.sum()\n",
    "        den = np.exp(r_2) * m\n",
    "        r_2 = den / den.sum()\n",
    "\n",
    "        alea_results.append(r_1)\n",
    "        shopper_results.append(r_2)\n",
    "        mask[i][i] = False\n",
    "\n",
    "alea_results = np.stack(alea_results)\n",
    "shopper_results = np.stack(shopper_results)\n",
    "mask = np.ma.masked_where(mask, alea_results)\n",
    "\n",
    "fig, axes = plt.subplots(nrows=1, ncols=2, figsize=(10, 5))\n",
    "\n",
    "for ax_, model in enumerate([aleacarta, shopper]):\n",
    "\n",
    "        axes[ax_].set_xticks([], [])\n",
    "        axes[ax_].set_yticks([], [])\n",
    "        im = axes[ax_].imshow((alea_results, shopper_results)[ax_], cmap=\"Spectral\", alpha=0.99, vmin=0, vmax=1)\n",
    "        axes[ax_].imshow(mask, cmap=mpl.colors.ListedColormap(['white']), alpha=1)\n",
    "        axes[ax_].set_title(f\"{model}\")\n",
    "\n",
    "cbar_ax = fig.add_axes([0.92, 0.15, 0.02, 0.69])\n",
    "fig.colorbar(im, cax=cbar_ax)\n",
    "fig.suptitle(\"Estimated Conditional Probabilities\")"
   ]
  },
  {
   "cell_type": "markdown",
   "id": "15",
   "metadata": {},
   "source": [
    "## Experiments with different assortments"
   ]
  },
  {
   "cell_type": "code",
   "execution_count": null,
   "id": "16",
   "metadata": {},
   "outputs": [],
   "source": [
    "ground_truth = np.zeros((8, 8))\n",
    "for i in range(8):\n",
    "    for j in range(8):\n",
    "        for basket in dataset:\n",
    "            if i in basket and j in basket and i != j:\n",
    "                ground_truth[i, j] += 1\n",
    "for i in range(8):\n",
    "    ground_truth[i] = ground_truth[i] / np.sum(ground_truth[i])"
   ]
  },
  {
   "cell_type": "code",
   "execution_count": null,
   "id": "17",
   "metadata": {},
   "outputs": [],
   "source": [
    "plt.imshow(ground_truth)"
   ]
  },
  {
   "cell_type": "code",
   "execution_count": null,
   "id": "18",
   "metadata": {},
   "outputs": [],
   "source": [
    "items_nests_store_1 = {0:[1, 2],\n",
    "1: [4, 5],\n",
    "2: [6],\n",
    "3: [7]}\n",
    "\n",
    "nests_interactions = [[\"\", \"compl\", \"neutral\", \"neutral\"],\n",
    "[\"compl\", \"\", \"neutral\", \"neutral\"],\n",
    "[\"neutral\", \"neutral\", \"\", \"neutral\"],\n",
    "[\"neutral\", \"neutral\", \"neutral\", \"\"]]\n",
    "\n",
    "data_gen_1 = SyntheticDataGenerator(items_nest=items_nests_store_1, nests_interactions=nests_interactions)\n",
    "dataset_1 = data_gen_1.generate_dataset(n_baskets=4000)\n",
    "\n",
    "items_nests_store_2 = {0:[0, 2],\n",
    "1: [3, 5],\n",
    "2: [6],\n",
    "3: [7]}\n",
    "\n",
    "nests_interactions = [[\"\", \"compl\", \"neutral\", \"neutral\"],\n",
    "[\"compl\", \"\", \"neutral\", \"neutral\"],\n",
    "[\"neutral\", \"neutral\", \"\", \"neutral\"],\n",
    "[\"neutral\", \"neutral\", \"neutral\", \"\"]]\n",
    "\n",
    "data_gen_2 = SyntheticDataGenerator(items_nest=items_nests_store_2, nests_interactions=nests_interactions)\n",
    "dataset_2 = data_gen_2.generate_dataset(n_baskets=4000)\n",
    "\n",
    "items_nests_store_3 = {0:[0, 1],\n",
    "1: [3, 4],\n",
    "2: [6],\n",
    "3: [7]}\n",
    "\n",
    "nests_interactions = [[\"\", \"compl\", \"neutral\", \"neutral\"],\n",
    "[\"compl\", \"\", \"neutral\", \"neutral\"],\n",
    "[\"neutral\", \"neutral\", \"\", \"neutral\"],\n",
    "[\"neutral\", \"neutral\", \"neutral\", \"\"]]\n",
    "\n",
    "data_gen_3 = SyntheticDataGenerator(items_nest=items_nests_store_3, nests_interactions=nests_interactions)\n",
    "dataset_3 = data_gen_3.generate_dataset(n_baskets=4000)"
   ]
  },
  {
   "cell_type": "code",
   "execution_count": null,
   "id": "19",
   "metadata": {},
   "outputs": [],
   "source": [
    "heterogeneous_trip_list = []\n",
    "for basket in dataset_1:\n",
    "    heterogeneous_trip_list.append(Trip(purchases=basket, prices=np.zeros((8, )), assortment=0))\n",
    "for basket in dataset_2:\n",
    "    heterogeneous_trip_list.append(Trip(purchases=basket, prices=np.zeros((8, )), assortment=1))\n",
    "for basket in dataset_3:\n",
    "    heterogeneous_trip_list.append(Trip(purchases=basket, prices=np.zeros((8, )), assortment=2))\n",
    "\n",
    "heterogenesous_trip_dataset = TripDataset(trips=heterogeneous_trip_list, available_items=np.array([[0, 1, 1, 0, 1, 1, 1, 1],\n",
    "[1, 0, 1, 1, 0, 1, 1, 1],\n",
    "[1, 1, 0, 1, 1, 0, 1, 1]]))"
   ]
  },
  {
   "cell_type": "code",
   "execution_count": null,
   "id": "20",
   "metadata": {},
   "outputs": [],
   "source": [
    "latent_sizes = {\"preferences\": 6, \"price\": 3, \"season\": 3}\n",
    "n_negative_samples = 1\n",
    "optimizer = \"adam\"\n",
    "lr = 5e-4\n",
    "epochs = 50\n",
    "batch_size = 32\n",
    "\n",
    "aleacarta = AleaCarta(\n",
    "    item_intercept=False,\n",
    "    price_effects=False,\n",
    "    seasonal_effects=False,\n",
    "    latent_sizes=latent_sizes,\n",
    "    n_negative_samples=n_negative_samples,\n",
    "    optimizer=optimizer,\n",
    "    lr=lr,\n",
    "    epochs=epochs,\n",
    "    batch_size=batch_size,\n",
    ")\n",
    "\n",
    "aleacarta.instantiate(n_items=8, n_stores=2)\n",
    "history = aleacarta.fit(heterogenesous_trip_dataset)"
   ]
  },
  {
   "cell_type": "code",
   "execution_count": null,
   "id": "21",
   "metadata": {},
   "outputs": [],
   "source": [
    "plt.plot(history[\"train_loss\"])"
   ]
  },
  {
   "cell_type": "code",
   "execution_count": null,
   "id": "22",
   "metadata": {},
   "outputs": [],
   "source": [
    "heterogeneous_trip_list = []\n",
    "for basket in dataset_1:\n",
    "    heterogeneous_trip_list.append(Trip(purchases=np.array(basket+[-1])+1, prices=np.zeros((9, )), assortment=0))\n",
    "for basket in dataset_2:\n",
    "    heterogeneous_trip_list.append(Trip(purchases=np.array(basket+[-1])+1, prices=np.zeros((9, )), assortment=1))\n",
    "for basket in dataset_3:\n",
    "    heterogeneous_trip_list.append(Trip(purchases=np.array(basket+[-1])+1, prices=np.zeros((9, )), assortment=2))\n",
    "\n",
    "heterogenesous_trip_dataset = TripDataset(trips=heterogeneous_trip_list, available_items=np.array([[1, 0, 1, 1, 0, 1, 1, 1, 1],\n",
    "[1, 1, 0, 1, 1, 0, 1, 1, 1],\n",
    "[1, 1, 1, 0, 1, 1, 0, 1, 1]]))\n",
    "\n",
    "\n",
    "shopper = Shopper(\n",
    "    item_intercept=False,\n",
    "    price_effects=False,\n",
    "    seasonal_effects=False,\n",
    "    think_ahead=False,\n",
    "    latent_sizes=latent_sizes,\n",
    "    n_negative_samples=n_negative_samples,\n",
    "    optimizer=optimizer,\n",
    "    lr=lr,\n",
    "    epochs=epochs,\n",
    "    batch_size=batch_size,\n",
    ")\n",
    "\n",
    "shopper.instantiate(n_items=9, n_stores=1)\n",
    "history = shopper.fit(heterogenesous_trip_dataset)"
   ]
  },
  {
   "cell_type": "code",
   "execution_count": null,
   "id": "23",
   "metadata": {},
   "outputs": [],
   "source": [
    "import matplotlib.pyplot as plt\n",
    "import matplotlib as mpl\n",
    "import numpy as np\n",
    "\n",
    "\n",
    "mask = np.ones((8,8), dtype=bool)\n",
    "alea_results = []\n",
    "shopper_results = []\n",
    "for i in range(8):\n",
    "        r_1 = aleacarta.compute_batch_utility(item_batch=np.array(list(range(8))),\n",
    "                basket_batch=np.array([[i] for _ in range(8)]) ,\n",
    "                store_batch=np.array([0, 0, 0, 0, 0, 0, 0, 0]),\n",
    "                week_batch=np.array([0, 0, 0, 0, 0, 0, 0, 0]),\n",
    "                price_batch=np.array([[0, 0, 0, 0, 0, 0] for _ in range(8)]))\n",
    "\n",
    "        r_2 = shopper.compute_batch_utility(item_batch=np.array(list(range(1, 9))),\n",
    "                basket_batch=np.array([[i+1] for _ in range(8)]) ,\n",
    "                available_item_batch=np.ones((9, 1)),\n",
    "                store_batch=np.array([0, 0, 0, 0, 0, 0, 0, 0]),\n",
    "                week_batch=np.array([0, 0, 0, 0, 0, 0, 0, 0]),\n",
    "                price_batch=np.array([[0, 0, 0, 0, 0, 0] for _ in range(8)]))\n",
    "        m = np.ones(8)\n",
    "        m[i] = 0\n",
    "        den = np.exp(r_1) * m\n",
    "        r_1 = den / den.sum()\n",
    "        den = np.exp(r_2) * m\n",
    "        r_2 = den / den.sum()\n",
    "\n",
    "        alea_results.append(r_1)\n",
    "        shopper_results.append(r_2)\n",
    "        mask[i][i] = False\n",
    "\n",
    "alea_results = np.stack(alea_results)\n",
    "shopper_results = np.stack(shopper_results)\n",
    "mask = np.ma.masked_where(mask, alea_results)\n",
    "\n",
    "fig, axes = plt.subplots(nrows=1, ncols=2, figsize=(10, 5))\n",
    "\n",
    "for ax_, model in enumerate([aleacarta, shopper]):\n",
    "\n",
    "        axes[ax_].set_xticks([], [])\n",
    "        axes[ax_].set_yticks([], [])\n",
    "        im = axes[ax_].imshow((alea_results, shopper_results)[ax_], cmap=\"Spectral\", alpha=0.99, vmin=0, vmax=1)\n",
    "        axes[ax_].imshow(mask, cmap=mpl.colors.ListedColormap(['white']), alpha=1)\n",
    "        axes[ax_].set_title(f\"{model}\")\n",
    "\n",
    "cbar_ax = fig.add_axes([0.92, 0.15, 0.02, 0.69])\n",
    "fig.colorbar(im, cax=cbar_ax)\n",
    "fig.suptitle(\"Estimated Conditional Probabilities\")"
   ]
  },
  {
   "cell_type": "markdown",
   "id": "24",
   "metadata": {},
   "source": [
    "### Testing on datasets issued from different assortments   \n",
    "\n",
    "Generation of the test dataset:"
   ]
  },
  {
   "cell_type": "code",
   "execution_count": null,
   "id": "25",
   "metadata": {},
   "outputs": [],
   "source": [
    "items_nests_store_4 = {0:[0, 2],\n",
    "1: [3, 4],\n",
    "2: [6],\n",
    "3: [7]}\n",
    "\n",
    "nests_interactions = [[\"\", \"compl\", \"neutral\", \"neutral\"],\n",
    "[\"compl\", \"\", \"neutral\", \"neutral\"],\n",
    "[\"neutral\", \"neutral\", \"\", \"neutral\"],\n",
    "[\"neutral\", \"neutral\", \"neutral\", \"\"]]\n",
    "\n",
    "data_gen_4 = SyntheticDataGenerator(items_nest=items_nests_store_4, nests_interactions=nests_interactions)\n",
    "dataset_4 = data_gen_4.generate_dataset(n_baskets=4000)\n",
    "\n",
    "items_nests_store_full = {0:[0, 1, 2],\n",
    "1: [3, 4, 5],\n",
    "2: [6],\n",
    "3: [7]}\n",
    "\n",
    "data_gen_full = SyntheticDataGenerator(items_nest=items_nests_store_full, nests_interactions=nests_interactions)\n",
    "dataset_full = data_gen_full.generate_dataset(n_baskets=4000)"
   ]
  },
  {
   "cell_type": "markdown",
   "id": "26",
   "metadata": {},
   "source": [
    "Metric computation:\n",
    "- Estimation of conditional probabilities\n",
    "- Computation of metric values"
   ]
  },
  {
   "cell_type": "code",
   "execution_count": null,
   "id": "27",
   "metadata": {},
   "outputs": [],
   "source": [
    "conditional_probabilities = []\n",
    "rec_ranks = []\n",
    "for basket in dataset_4:\n",
    "    for i in range(len(basket)):\n",
    "        sub_basket = np.array(basket[:i]+basket[i+1:])\n",
    "        probs = aleacarta.compute_item_likelihood(trip=Trip(purchases=sub_basket, prices=np.zeros((8, )), assortment=np.array([1., 0., 1., 1., 1., 0., 1., 1.])))\n",
    "        conditional_probabilities.append(probs[basket[i]])\n",
    "        rec_ranks.append(1 / (np.argsort(np.argsort(probs))[basket[i]] + 1))"
   ]
  },
  {
   "cell_type": "code",
   "execution_count": null,
   "id": "28",
   "metadata": {},
   "outputs": [],
   "source": [
    "print(\"Mean Log-Likelihood:\", np.mean(np.log(conditional_probabilities)) * -1)\n",
    "print(\"Mean Reciprocal Rank:\", np.mean(rec_ranks))"
   ]
  },
  {
   "cell_type": "code",
   "execution_count": null,
   "id": "29",
   "metadata": {},
   "outputs": [],
   "source": [
    "base_asst = np.array([0., 1., 0., 1., 1., 1., 0., 1., 1.])\n",
    "conditional_probabilities = []\n",
    "rec_ranks = []\n",
    "for basket in dataset_4:\n",
    "    for i in range(len(basket)):\n",
    "        sub_basket = np.array(basket[:i]+basket[i+1:]) + 1\n",
    "        asst = base_asst.copy()\n",
    "        for k in sub_basket:\n",
    "            asst[k] = 0.\n",
    "        probs = shopper.compute_item_likelihood(trip=Trip(purchases=sub_basket, prices=np.zeros((9, )), assortment=asst))\n",
    "        conditional_probabilities.append(probs[basket[i]+1])\n",
    "        rec_ranks.append(1 / (np.argsort(np.argsort(probs))[basket[i]+1] + 1))"
   ]
  },
  {
   "cell_type": "code",
   "execution_count": null,
   "id": "30",
   "metadata": {},
   "outputs": [],
   "source": [
    "print(\"Mean Log-Likelihood:\", np.mean(np.log(conditional_probabilities)) * -1)\n",
    "print(\"Mean Reciprocal Rank:\", np.mean(rec_ranks))"
   ]
  },
  {
   "cell_type": "code",
   "execution_count": null,
   "id": "31",
   "metadata": {},
   "outputs": [],
   "source": [
    "conditional_probabilities = []\n",
    "rec_ranks = []\n",
    "for basket in dataset_full:\n",
    "    for i in range(len(basket)):\n",
    "        sub_basket = np.array(basket[:i]+basket[i+1:])\n",
    "        probs = aleacarta.compute_item_likelihood(trip=Trip(purchases=sub_basket, prices=np.zeros((8, )), assortment=np.array([1., 1., 1., 1., 1., 1., 1., 1.])))\n",
    "        conditional_probabilities.append(probs[basket[i]])\n",
    "        rec_ranks.append(1 / (np.argsort(np.argsort(probs))[basket[i]] + 1))"
   ]
  },
  {
   "cell_type": "code",
   "execution_count": null,
   "id": "32",
   "metadata": {},
   "outputs": [],
   "source": [
    "print(\"Mean Log-Likelihood:\", np.mean(np.log(conditional_probabilities)) * -1)\n",
    "print(\"Mean Reciprocal Rank:\", np.mean(rec_ranks))"
   ]
  },
  {
   "cell_type": "code",
   "execution_count": null,
   "id": "33",
   "metadata": {},
   "outputs": [],
   "source": [
    "base_asst = np.array([0., 1., 1., 1., 1., 1., 1., 1., 1.])\n",
    "conditional_probabilities = []\n",
    "rec_ranks = []\n",
    "for basket in dataset_full:\n",
    "    for i in range(len(basket)):\n",
    "        sub_basket = np.array(basket[:i]+basket[i+1:]) + 1\n",
    "        asst = base_asst.copy()\n",
    "        for k in sub_basket:\n",
    "            asst[k] = 0.\n",
    "        probs = shopper.compute_item_likelihood(trip=Trip(purchases=sub_basket, prices=np.zeros((9, )), assortment=asst))\n",
    "        conditional_probabilities.append(probs[basket[i]+1])\n",
    "        rec_ranks.append(1 / (np.argsort(np.argsort(probs))[basket[i]+1] + 1))"
   ]
  },
  {
   "cell_type": "code",
   "execution_count": null,
   "id": "34",
   "metadata": {},
   "outputs": [],
   "source": [
    "print(\"Mean Log-Likelihood:\", np.mean(np.log(conditional_probabilities)) * -1)\n",
    "print(\"Mean Reciprocal Rank:\", np.mean(rec_ranks))"
   ]
  },
  {
   "cell_type": "code",
   "execution_count": null,
   "id": "35",
   "metadata": {},
   "outputs": [],
   "source": []
  }
 ],
 "metadata": {
  "kernelspec": {
   "display_name": "alea-carta-est",
   "language": "python",
   "name": "python3"
  },
  "language_info": {
   "codemirror_mode": {
    "name": "ipython",
    "version": 3
   },
   "file_extension": ".py",
   "mimetype": "text/x-python",
   "name": "python",
   "nbconvert_exporter": "python",
   "pygments_lexer": "ipython3",
   "version": "3.12.11"
  }
 },
 "nbformat": 4,
 "nbformat_minor": 5
}
