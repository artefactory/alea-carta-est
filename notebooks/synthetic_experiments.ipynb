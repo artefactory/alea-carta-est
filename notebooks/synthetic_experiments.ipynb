{
 "cells": [
  {
   "cell_type": "markdown",
   "id": "0",
   "metadata": {},
   "source": [
    "# Synthetic Experiments"
   ]
  },
  {
   "cell_type": "markdown",
   "id": "1",
   "metadata": {},
   "source": [
    "## Sample synthetic data"
   ]
  },
  {
   "cell_type": "code",
   "execution_count": null,
   "id": "2",
   "metadata": {},
   "outputs": [],
   "source": [
    "import sys\n",
    "sys.path.append(\"../\")\n",
    "\n",
    "import matplotlib.pyplot as plt\n",
    "import numpy as np\n",
    "\n",
    "import choice_learn\n",
    "from python.data import SyntheticDataGenerator\n",
    "from choice_learn.basket_models import Trip, TripDataset"
   ]
  },
  {
   "cell_type": "markdown",
   "id": "3",
   "metadata": {},
   "source": [
    "## Sample purchased baskets"
   ]
  },
  {
   "cell_type": "code",
   "execution_count": null,
   "id": "4",
   "metadata": {},
   "outputs": [],
   "source": [
    "items_nests = {0:[0, 1, 2],\n",
    "1: [3, 4, 5],\n",
    "2: [6],\n",
    "3: [7]}\n",
    "\n",
    "nests_interactions = [[\"\", \"compl\", \"neutral\", \"neutral\"],\n",
    "[\"compl\", \"\", \"neutral\", \"neutral\"],\n",
    "[\"neutral\", \"neutral\", \"\", \"neutral\"],\n",
    "[\"neutral\", \"neutral\", \"neutral\", \"\"]]\n",
    "\n",
    "data_gen = SyntheticDataGenerator(items_nest=items_nests, nests_interactions=nests_interactions)"
   ]
  },
  {
   "cell_type": "code",
   "execution_count": null,
   "id": "5",
   "metadata": {},
   "outputs": [],
   "source": [
    "dataset = data_gen.generate_dataset(n_baskets=10000)"
   ]
  },
  {
   "cell_type": "code",
   "execution_count": null,
   "id": "6",
   "metadata": {},
   "outputs": [],
   "source": [
    "trip_list = []\n",
    "for basket in dataset:\n",
    "    trip_list.append(Trip(purchases=basket, prices=np.zeros((8, )), assortment=0))\n",
    "\n",
    "trip_dataset = TripDataset(trips=trip_list, available_items=np.ones((1, 8)))"
   ]
  },
  {
   "cell_type": "markdown",
   "id": "7",
   "metadata": {},
   "source": [
    "## Modelling "
   ]
  },
  {
   "cell_type": "code",
   "execution_count": null,
   "id": "8",
   "metadata": {},
   "outputs": [],
   "source": [
    "from choice_learn.basket_models import AleaCarta, Shopper"
   ]
  },
  {
   "cell_type": "code",
   "execution_count": null,
   "id": "9",
   "metadata": {},
   "outputs": [],
   "source": [
    "latent_sizes = {\"preferences\": 6, \"price\": 3, \"season\": 3}\n",
    "n_negative_samples = 2\n",
    "optimizer = \"adam\"\n",
    "lr = 5e-4\n",
    "epochs = 150\n",
    "batch_size = 32\n",
    "\n",
    "aleacarta = AleaCarta(\n",
    "    item_intercept=False,\n",
    "    price_effects=False,\n",
    "    seasonal_effects=False,\n",
    "    latent_sizes=latent_sizes,\n",
    "    n_negative_samples=n_negative_samples,\n",
    "    optimizer=optimizer,\n",
    "    lr=lr,\n",
    "    epochs=epochs,\n",
    "    batch_size=batch_size,\n",
    ")\n",
    "\n",
    "aleacarta.instantiate(n_items=8, n_stores=2)"
   ]
  },
  {
   "cell_type": "code",
   "execution_count": null,
   "id": "10",
   "metadata": {},
   "outputs": [],
   "source": [
    "history = aleacarta.fit(trip_dataset)"
   ]
  },
  {
   "cell_type": "code",
   "execution_count": null,
   "id": "11",
   "metadata": {},
   "outputs": [],
   "source": [
    "plt.plot(history[\"train_loss\"])\n",
    "plt.xlabel(\"Epoch\")\n",
    "plt.ylabel(\"Training Loss\")\n",
    "plt.show()"
   ]
  },
  {
   "cell_type": "code",
   "execution_count": null,
   "id": "12",
   "metadata": {},
   "outputs": [],
   "source": [
    "for batch in shopper_trip_dataset.iter_batch(batch_size=4):\n",
    "    break"
   ]
  },
  {
   "cell_type": "code",
   "execution_count": null,
   "id": "13",
   "metadata": {},
   "outputs": [],
   "source": [
    "latent_sizes = {\"preferences\": 6, \"price\": 3, \"season\": 3}\n",
    "n_negative_samples = 2\n",
    "optimizer = \"adam\"\n",
    "lr = 5e-4\n",
    "epochs = 150\n",
    "batch_size = 32\n",
    "\n",
    "trip_list = []\n",
    "for basket in dataset:\n",
    "    trip_list.append(Trip(purchases=np.array(basket+[-1])+1, prices=np.zeros((9, )), assortment=0))\n",
    "\n",
    "shopper_trip_dataset = TripDataset(trips=trip_list, available_items=np.ones((1, 9)))\n",
    "\n",
    "shopper = Shopper(\n",
    "    item_intercept=False,\n",
    "    price_effects=False,\n",
    "    seasonal_effects=False,\n",
    "    think_ahead=False,\n",
    "    latent_sizes=latent_sizes,\n",
    "    n_negative_samples=n_negative_samples,\n",
    "    optimizer=optimizer,\n",
    "    lr=lr,\n",
    "    epochs=epochs,\n",
    "    batch_size=batch_size,\n",
    ")\n",
    "\n",
    "shopper.instantiate(n_items=9, n_stores=1)\n",
    "print(shopper.trainable_weights[-1])\n",
    "history = shopper.fit(shopper_trip_dataset)\n",
    "print(shopper.trainable_weights[-1])\n",
    "plt.plot(history[\"train_loss\"])\n",
    "plt.xlabel(\"Epoch\")\n",
    "plt.ylabel(\"Training Loss\")\n",
    "plt.show()"
   ]
  },
  {
   "cell_type": "markdown",
   "id": "14",
   "metadata": {},
   "source": [
    "## Results"
   ]
  },
  {
   "cell_type": "code",
   "execution_count": null,
   "id": "15",
   "metadata": {},
   "outputs": [],
   "source": [
    "import matplotlib.pyplot as plt\n",
    "import matplotlib as mpl\n",
    "import numpy as np\n",
    "\n",
    "\n",
    "mask = np.ones((8,8), dtype=bool)\n",
    "alea_results = []\n",
    "shopper_results = []\n",
    "for i in range(8):\n",
    "        r_1 = aleacarta.compute_batch_utility(item_batch=np.array(list(range(8))),\n",
    "                basket_batch=np.array([[i] for _ in range(8)]) ,\n",
    "                store_batch=np.array([0, 0, 0, 0, 0, 0, 0, 0]),\n",
    "                week_batch=np.array([0, 0, 0, 0, 0, 0, 0, 0]),\n",
    "                price_batch=np.array([[0, 0, 0, 0, 0, 0] for _ in range(8)]))\n",
    "\n",
    "        r_2 = shopper.compute_batch_utility(item_batch=np.array(list(range(1, 9))),\n",
    "                basket_batch=np.array([[i+1] for _ in range(8)]) ,\n",
    "                available_item_batch=np.ones((9, 1)),\n",
    "                store_batch=np.array([0, 0, 0, 0, 0, 0, 0, 0]),\n",
    "                week_batch=np.array([0, 0, 0, 0, 0, 0, 0, 0]),\n",
    "                price_batch=np.array([[0, 0, 0, 0, 0, 0] for _ in range(8)]))\n",
    "        m = np.ones(8)\n",
    "        m[i] = 0\n",
    "        den = np.exp(r_1) * m\n",
    "        r_1 = den / den.sum()\n",
    "        den = np.exp(r_2) * m\n",
    "        r_2 = den / den.sum()\n",
    "\n",
    "        alea_results.append(r_1)\n",
    "        shopper_results.append(r_2)\n",
    "        mask[i][i] = False\n",
    "\n",
    "alea_results = np.stack(alea_results)\n",
    "shopper_results = np.stack(shopper_results)\n",
    "mask = np.ma.masked_where(mask, alea_results)\n",
    "\n",
    "fig, axes = plt.subplots(nrows=1, ncols=2, figsize=(10, 5))\n",
    "\n",
    "for ax_, model in enumerate([aleacarta, shopper]):\n",
    "\n",
    "        axes[ax_].set_xticks([], [])\n",
    "        axes[ax_].set_yticks([], [])\n",
    "        im = axes[ax_].imshow((alea_results, shopper_results)[ax_], cmap=\"Spectral\", alpha=0.99, vmin=0, vmax=1)\n",
    "        axes[ax_].imshow(mask, cmap=mpl.colors.ListedColormap(['white']), alpha=1)\n",
    "        axes[ax_].set_title(f\"{model}\")\n",
    "\n",
    "cbar_ax = fig.add_axes([0.92, 0.15, 0.02, 0.69])\n",
    "fig.colorbar(im, cax=cbar_ax)\n",
    "fig.suptitle(\"Estimated Conditional Probabilities\")"
   ]
  },
  {
   "cell_type": "markdown",
   "id": "16",
   "metadata": {},
   "source": []
  }
 ],
 "metadata": {
  "kernelspec": {
   "display_name": "with_choice_learn",
   "language": "python",
   "name": "python3"
  },
  "language_info": {
   "codemirror_mode": {
    "name": "ipython",
    "version": 3
   },
   "file_extension": ".py",
   "mimetype": "text/x-python",
   "name": "python",
   "nbconvert_exporter": "python",
   "pygments_lexer": "ipython3",
   "version": "3.12.11"
  }
 },
 "nbformat": 4,
 "nbformat_minor": 5
}
