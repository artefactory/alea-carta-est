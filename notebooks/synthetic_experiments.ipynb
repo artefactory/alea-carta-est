{
 "cells": [
  {
   "cell_type": "markdown",
   "id": "60b9cc4f",
   "metadata": {},
   "source": [
    "# Synthetic Experiments"
   ]
  },
  {
   "cell_type": "markdown",
   "id": "984f8af4",
   "metadata": {},
   "source": [
    "## Sample synthetic data"
   ]
  },
  {
   "cell_type": "code",
   "execution_count": null,
   "id": "d8f8d31b",
   "metadata": {},
   "outputs": [],
   "source": [
    "import sys\n",
    "sys.path.append(\"../\")\n",
    "\n",
    "import choice_learn\n",
    "from python.data import SyntheticDataGenerator"
   ]
  },
  {
   "cell_type": "markdown",
   "id": "b3024007",
   "metadata": {},
   "source": [
    "## Sample purchased baskets"
   ]
  },
  {
   "cell_type": "code",
   "execution_count": null,
   "id": "ed8a74e6",
   "metadata": {},
   "outputs": [],
   "source": [
    "items_nests = {0:[0, 1, 2],\n",
    "1: [3, 4, 5],\n",
    "2: [6],\n",
    "3: [7]}\n",
    "\n",
    "nests_interactions = [[\"\", \"compl\", \"neutral\", \"neutral\"],\n",
    "[\"compl\", \"\", \"neutral\", \"neutral\"],\n",
    "[\"neutral\", \"neutral\", \"\", \"neutral\"],\n",
    "[\"neutral\", \"neutral\", \"neutral\", \"\"]]\n",
    "\n",
    "data_gen = SyntheticDataGenerator(items_nest=items_nests, nests_interactions=nests_interactions)"
   ]
  },
  {
   "cell_type": "code",
   "execution_count": null,
   "id": "9c3f06eb",
   "metadata": {},
   "outputs": [],
   "source": [
    "dataset = data_gen.generate_dataset(n_baskets=1000)"
   ]
  },
  {
   "cell_type": "markdown",
   "id": "f337217b",
   "metadata": {},
   "source": [
    "### Sample purchased baskets\n",
    "\n",
    "### Modelling\n",
    "\n",
    "### Results"
   ]
  },
  {
   "cell_type": "code",
   "execution_count": null,
   "id": "ba1b8457",
   "metadata": {},
   "outputs": [],
   "source": []
  },
  {
   "cell_type": "markdown",
   "id": "1089cdb5",
   "metadata": {},
   "source": []
  }
 ],
 "metadata": {
  "kernelspec": {
   "display_name": "with_choice_learn",
   "language": "python",
   "name": "python3"
  },
  "language_info": {
   "codemirror_mode": {
    "name": "ipython",
    "version": 3
   },
   "file_extension": ".py",
   "mimetype": "text/x-python",
   "name": "python",
   "nbconvert_exporter": "python",
   "pygments_lexer": "ipython3",
   "version": "3.12.11"
  }
 },
 "nbformat": 4,
 "nbformat_minor": 5
}
