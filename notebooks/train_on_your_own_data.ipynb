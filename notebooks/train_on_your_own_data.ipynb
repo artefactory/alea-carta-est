{
 "cells": [
  {
   "cell_type": "markdown",
   "id": "0",
   "metadata": {},
   "source": [
    "# Train the model on your own dataset"
   ]
  },
  {
   "cell_type": "markdown",
   "id": "1",
   "metadata": {},
   "source": [
    "## Install choice-learn\n",
    "\n",
    "You will need to install the choice-learn package with pip:"
   ]
  },
  {
   "cell_type": "code",
   "execution_count": null,
   "id": "2",
   "metadata": {},
   "outputs": [],
   "source": [
    "# !pip install choice-learn"
   ]
  },
  {
   "cell_type": "markdown",
   "id": "3",
   "metadata": {},
   "source": [
    "## Instantiating a TripDataset\n",
    "\n",
    "First, it is needed to format you data as a TripDataset."
   ]
  },
  {
   "cell_type": "code",
   "execution_count": null,
   "id": "4",
   "metadata": {},
   "outputs": [],
   "source": [
    "# Import the right classes\n",
    "\n",
    "from choice_learn.basket_models import Trip, TripDataset"
   ]
  },
  {
   "cell_type": "markdown",
   "id": "5",
   "metadata": {},
   "source": [
    "# Purchases, basket & assortment\n",
    "\n",
    "You can split each data point (i.e. a basket of purchased items) as three information:\n",
    "- the purchased items (the \"basket\")\n",
    "- the list of available items at the time of the purchase (the \"assortment\")\n",
    "- the price of every item at the time of the purchase (the \"prices\")"
   ]
  },
  {
   "cell_type": "markdown",
   "id": "6",
   "metadata": {},
   "source": []
  }
 ],
 "metadata": {
  "language_info": {
   "name": "python"
  }
 },
 "nbformat": 4,
 "nbformat_minor": 5
}
