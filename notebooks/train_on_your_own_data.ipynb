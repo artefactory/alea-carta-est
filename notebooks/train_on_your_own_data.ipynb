{
 "cells": [
  {
   "cell_type": "markdown",
   "id": "0",
   "metadata": {},
   "source": [
    "# Train the model on your own dataset"
   ]
  },
  {
   "cell_type": "markdown",
   "id": "1",
   "metadata": {},
   "source": [
    "## Install choice-learn\n",
    "\n",
    "You will need to install the choice-learn package with pip:"
   ]
  },
  {
   "cell_type": "code",
   "execution_count": null,
   "id": "2",
   "metadata": {},
   "outputs": [],
   "source": [
    "# !pip install choice-learn"
   ]
  },
  {
   "cell_type": "markdown",
   "id": "3",
   "metadata": {},
   "source": [
    "## Instantiating a TripDataset\n",
    "\n",
    "First, it is needed to format you data as a TripDataset."
   ]
  },
  {
   "cell_type": "code",
   "execution_count": null,
   "id": "4",
   "metadata": {},
   "outputs": [],
   "source": [
    "# Base dependencies\n",
    "import matplotlib.pyplot as plt\n",
    "import numpy as np\n",
    "\n",
    "# Import the right classes\n",
    "from choice_learn.basket_models import Trip, TripDataset"
   ]
  },
  {
   "cell_type": "markdown",
   "id": "5",
   "metadata": {},
   "source": [
    "### Purchases, basket & assortment\n",
    "\n",
    "You can split each data point (i.e. a basket of purchased items) as three information:\n",
    "- the purchased items (the \"basket\")\n",
    "- the list of available items at the time of the purchase (the \"assortment\")\n",
    "- the price of every item at the time of the purchase (the \"prices\")"
   ]
  },
  {
   "cell_type": "markdown",
   "id": "6",
   "metadata": {},
   "source": [
    "### Small Example\n",
    "\n",
    "Let's take an example and consider the case of a supermarket selling 4 items: {0, 1, 2, 3}.\n",
    "\n",
    "During day 1, the item 3 is out-of-stock and the shelves look like this:\n",
    "\n",
    "<table>\n",
    "<tr><th> Shelf in the Supermarket </th><th> Customer Purchases</th></tr>\n",
    "<tr><td>\n",
    "\n",
    "| Items | Sold | Price |\n",
    "|-|-|-|\n",
    "| 0 | Yes | 1.0 $ |\n",
    "| 1 | Yes | 1.5 $ |\n",
    "| 2 | Yes | 3.0 $ |\n",
    "| 3 | No | NA |\n",
    "\n",
    "</td><td>\n",
    "\n",
    "| Customer | Purchases | | Customer | Purchases | \n",
    "|--|--|--|--|--|\n",
    "| a | 0 | | d | 1 |\n",
    "| b | 1 | | e | 1, 2|\n",
    "| c | 0, 2 | | f | 2 |\n",
    "\n",
    "</td></tr> </table>\n",
    "\n",
    "\n",
    "During day 2, the item 3 is refurnished, while this time, item 1 is out-of-stock.\n",
    "Also, the owner decides to slightly change the prices.\n",
    "\n",
    "<table>\n",
    "<tr><th> Shelf in the Supermarket </th><th> Customer Purchases</th></tr>\n",
    "<tr><td>\n",
    "\n",
    "| Items | Sold | Price |\n",
    "|-|-|-|\n",
    "| 0 | Yes | 1.2 $ |\n",
    "| 1 | No | NA |\n",
    "| 2 | Yes | 2.8 $ |\n",
    "| 3 | Yes | 2.0 $ |\n",
    "\n",
    "</td><td>\n",
    "\n",
    "| Customer | Purchases | | Customer | Purchases | \n",
    "|--|--|--|--|--|\n",
    "| g | 0 | | j | 3 |\n",
    "| h | 2, 3 | | k | 2, 3|\n",
    "| i | 2 | |  |  |\n",
    "\n",
    "</td></tr> </table>\n",
    "\n",
    "We show here how to create Trips from the different purchases and instantiate a TripDataset."
   ]
  },
  {
   "cell_type": "code",
   "execution_count": null,
   "id": "7",
   "metadata": {},
   "outputs": [],
   "source": [
    "# Day 1:\n",
    "assortment_day_1 = np.array([1., 1., .1, 0.]) # Item 3 is oos\n",
    "prices_day_1 = np.array([1.0, 1.5, 3.0, 0.0]) # Needs to give a value for all prices even for not sold items, the value does not matter\n",
    "\n",
    "trips = []\n",
    "for basket in [[0], [1], [0, 2], [1], [1, 2], [2]]:\n",
    "    trips.append(Trip(purchases=basket, prices=prices_day_1, assortment=assortment_day_1)) # Create a Trip for all baskets\n",
    "\n",
    "# Day 2\n",
    "assortment_day_2 = np.array([1., 0., .1, 1.]) # Item 1 is oos\n",
    "prices_day_2 = np.array([1.2, 0.0, 2.9, 2.0]) # Needs to give a value for all prices even for not sold items, the value does not matter\n",
    "\n",
    "for basket in [[0], [2, 3], [2], [3], [2, 3]]:\n",
    "    trips.append(Trip(purchases=basket, prices=prices_day_2, assortment=assortment_day_2)) # Create a Trip for all baskets\n",
    "\n",
    "trip_dataset = TripDataset(trips=trips, available_items=np.ones((1, 4)))"
   ]
  },
  {
   "cell_type": "markdown",
   "id": "8",
   "metadata": {},
   "source": [
    "## Instantiating and training the model\n",
    "\n",
    "Now, we just need to define a few hyperparamters and launch a training."
   ]
  },
  {
   "cell_type": "code",
   "execution_count": null,
   "id": "9",
   "metadata": {},
   "outputs": [],
   "source": [
    "from choice_learn.basket_models import AleaCarta\n",
    "\n",
    "latent_sizes = {\"preferences\": 2}\n",
    "n_negative_samples = 1\n",
    "optimizer = \"adam\"\n",
    "lr = 5e-4\n",
    "epochs = 10\n",
    "batch_size = 4\n",
    "\n",
    "aleacarta = AleaCarta(\n",
    "    item_intercept=False,\n",
    "    price_effects=False,\n",
    "    seasonal_effects=False,\n",
    "    latent_sizes=latent_sizes,\n",
    "    n_negative_samples=n_negative_samples,\n",
    "    optimizer=optimizer,\n",
    "    lr=lr,\n",
    "    epochs=epochs,\n",
    "    batch_size=batch_size,\n",
    ")\n",
    "\n",
    "aleacarta.instantiate(n_items=4, n_stores=1)\n",
    "\n",
    "# Fit the model\n",
    "history = aleacarta.fit(trip_dataset)"
   ]
  },
  {
   "cell_type": "markdown",
   "id": "10",
   "metadata": {},
   "source": [
    "## Using the model: probabilities & more\n",
    "\n",
    "Once the model is trained, we can use it to obtain different insighes:\n",
    "- Next-Item probability\n",
    "- Items interactions\n",
    "\n",
    "\n",
    "### Prediction the next purchased item\n",
    "\n",
    "Let's consider this time that there is no out of stock and all the items are sold.\n",
    "Let's see how a customer might complete its basket."
   ]
  },
  {
   "cell_type": "code",
   "execution_count": null,
   "id": "11",
   "metadata": {},
   "outputs": [],
   "source": [
    "proba_empty_basket = aleacarta.compute_item_likelihood(trip=Trip(purchases=[], prices=np.array([1.2, 1.5, 2.9, 2.0]), assortment=np.array([1., 1., 1., 1.])))\n",
    "proba_basket_with_one_item = aleacarta.compute_item_likelihood(trip=Trip(purchases=[1], prices=np.array([1.2, 1.5, 2.9, 2.0]), assortment=np.array([1., 1., 1., 1.])))"
   ]
  },
  {
   "cell_type": "code",
   "execution_count": null,
   "id": "12",
   "metadata": {},
   "outputs": [],
   "source": [
    "print(\"A customer with an empty basket has the following probabilities to purchase each item:\")\n",
    "for i in range(4):\n",
    "    print(f\"                item {i}: {proba_empty_basket[i]}\")\n",
    "\n",
    "\n",
    "print(\"A customer with the item 1 in its basket has the following probabilities to purchase each item:\")\n",
    "for i in range(4):\n",
    "    print(f\"                item {i}: {proba_basket_with_one_item[i]}\")\n"
   ]
  },
  {
   "cell_type": "markdown",
   "id": "13",
   "metadata": {},
   "source": [
    "### Visualization of the interactions\n",
    "\n",
    "It is possible to directly visuzalize the interactions term doing the following:"
   ]
  },
  {
   "cell_type": "code",
   "execution_count": null,
   "id": "14",
   "metadata": {},
   "outputs": [],
   "source": [
    "interactions = np.dot(aleacarta.alpha.numpy(), aleacarta.alpha.numpy().T)\n",
    "np.fill_diagonal(interactions, np.zeros((4, )))\n",
    "plt.imshow(interactions)\n",
    "plt.xlabel(\"Item i\")\n",
    "plt.ylabel(\"Item j\")\n",
    "plt.title(\"$a_i \\cdot a_j$\")\n",
    "plt.colorbar()"
   ]
  },
  {
   "cell_type": "code",
   "execution_count": null,
   "id": "15",
   "metadata": {},
   "outputs": [],
   "source": []
  }
 ],
 "metadata": {
  "kernelspec": {
   "display_name": "with_choice_learn",
   "language": "python",
   "name": "python3"
  },
  "language_info": {
   "codemirror_mode": {
    "name": "ipython",
    "version": 3
   },
   "file_extension": ".py",
   "mimetype": "text/x-python",
   "name": "python",
   "nbconvert_exporter": "python",
   "pygments_lexer": "ipython3",
   "version": "3.12.11"
  }
 },
 "nbformat": 4,
 "nbformat_minor": 5
}
