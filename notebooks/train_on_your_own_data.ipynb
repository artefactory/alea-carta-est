{
 "cells": [
  {
   "cell_type": "markdown",
   "id": "0",
   "metadata": {},
   "source": [
    "# Train the model on your own dataset"
   ]
  },
  {
   "cell_type": "markdown",
   "id": "1",
   "metadata": {},
   "source": [
    "## Install choice-learn\n",
    "\n",
    "You will need to install the choice-learn package with pip:"
   ]
  },
  {
   "cell_type": "code",
   "execution_count": null,
   "id": "2",
   "metadata": {},
   "outputs": [],
   "source": [
    "# !pip install choice-learn"
   ]
  },
  {
   "cell_type": "markdown",
   "id": "3",
   "metadata": {},
   "source": [
    "## Instantiating a TripDataset\n",
    "\n",
    "First, it is needed to format you data as a TripDataset."
   ]
  },
  {
   "cell_type": "code",
   "execution_count": null,
   "id": "4",
   "metadata": {},
   "outputs": [],
   "source": [
    "# Base dependencies\n",
    "import numpy as np\n",
    "\n",
    "# Import the right classes\n",
    "from choice_learn.basket_models import Trip, TripDataset"
   ]
  },
  {
   "cell_type": "markdown",
   "id": "5",
   "metadata": {},
   "source": [
    "Let's consider the case of a supermarket selling 4 items: {0, 1, 2, 3}.\n",
    "\n",
    "During day 1, the item 3 is out-of-stock and the shelves look like this:\n",
    "\n",
    "<table>\n",
    "<tr><th> Shelf in the Supermarket </th><th> Customer Purchases</th></tr>\n",
    "<tr><td>\n",
    "\n",
    "| Items | Sold | Price |\n",
    "|-|-|-|\n",
    "| 0 | Yes | 1.0 $ |\n",
    "| 1 | Yes | 1.5 $ |\n",
    "| 2 | Yes | 3.0 $ |\n",
    "| 3 | No | NA |\n",
    "\n",
    "</td><td>\n",
    "\n",
    "| Customer | Purchases | | Customer | Purchases | \n",
    "|--|--|--|--|--|\n",
    "| a | 0 | | d | 1 |\n",
    "| b | 1 | | e | 1, 2|\n",
    "| c | 0, 2 | | f | 2 |\n",
    "\n",
    "</td></tr> </table>\n",
    "\n",
    "\n",
    "During day 2, the item 3 is refurnished, while this time, item 1 is out-of-stock.\n",
    "Also, the owner decides to slightly change the prices.\n",
    "\n",
    "<table>\n",
    "<tr><th> Shelf in the Supermarket </th><th> Customer Purchases</th></tr>\n",
    "<tr><td>\n",
    "\n",
    "| Items | Sold | Price |\n",
    "|-|-|-|\n",
    "| 0 | Yes | 1.2 $ |\n",
    "| 1 | No | NA |\n",
    "| 2 | Yes | 2.8 $ |\n",
    "| 3 | Yes | 2.0 $ |\n",
    "\n",
    "</td><td>\n",
    "\n",
    "| Customer | Purchases | | Customer | Purchases | \n",
    "|--|--|--|--|--|\n",
    "| g | 0 | | j | 3 |\n",
    "| h | 2, 3 | | k | 2, 3|\n",
    "| i | 2 | |  |  |\n",
    "\n",
    "</td></tr> </table>\n",
    "\n",
    "We show here how to create Trips from the different purchases and instantiate a TripDataset."
   ]
  },
  {
   "cell_type": "code",
   "execution_count": null,
   "id": "6",
   "metadata": {},
   "outputs": [],
   "source": [
    "# Day 1:\n",
    "assortment_day_1 = np.array([1., 1., .1, 0.]) # Item 3 is oos\n",
    "prices_day_1 = np.array([1.0, 1.5, 3.0, 0.0]) # Needs to give a value for all prices even for not sold items, the value does not matter\n",
    "\n",
    "trips = []\n",
    "for basket in [[0], [1], [0, 2], [1], [1, 2], [2]]:\n",
    "    trips.append(Trip(purchases=basket, prices=prices_day_1, assortment=assortment_day_1)) # Create a Trip for all baskets\n",
    "\n",
    "# Day 2\n",
    "assortment_day_2 = np.array([1., 0., .1, 1.]) # Item 1 is oos\n",
    "prices_day_2 = np.array([1.2, 0.0, 2.9, 2.0]) # Needs to give a value for all prices even for not sold items, the value does not matter\n",
    "\n",
    "for basket in [[0], [2, 3], [2], [3], [2, 3]]:\n",
    "    trips.append(Trip(purchases=basket, prices=prices_day_2, assortment=assortment_day_2)) # Create a Trip for all baskets\n",
    "\n",
    "trip_dataset = TripDataset(trips=trips, available_items=None)"
   ]
  },
  {
   "cell_type": "code",
   "execution_count": null,
   "id": "7",
   "metadata": {},
   "outputs": [],
   "source": [
    "for batch in trip_dataset.iter_batch(batch_size=4):\n",
    "    break"
   ]
  },
  {
   "cell_type": "markdown",
   "id": "8",
   "metadata": {},
   "source": [
    "### Purchases, basket & assortment\n",
    "\n",
    "You can split each data point (i.e. a basket of purchased items) as three information:\n",
    "- the purchased items (the \"basket\")\n",
    "- the list of available items at the time of the purchase (the \"assortment\")\n",
    "- the price of every item at the time of the purchase (the \"prices\")"
   ]
  },
  {
   "cell_type": "markdown",
   "id": "9",
   "metadata": {},
   "source": [
    "## Instantiating and training the model\n",
    "\n",
    "Now, we just need to define a few hyperparamters and launch a training."
   ]
  },
  {
   "cell_type": "code",
   "execution_count": null,
   "id": "10",
   "metadata": {},
   "outputs": [],
   "source": [
    "from choice_learn.basket_models import AleaCarta"
   ]
  },
  {
   "cell_type": "markdown",
   "id": "11",
   "metadata": {},
   "source": [
    "## Using the model: probabilities & more\n",
    "\n",
    "Once the model is trained, we can use it to obtain different insighes:\n",
    "- Next-Item probability\n",
    "- Items interactions"
   ]
  },
  {
   "cell_type": "code",
   "execution_count": null,
   "id": "12",
   "metadata": {},
   "outputs": [],
   "source": []
  }
 ],
 "metadata": {
  "kernelspec": {
   "display_name": "with_choice_learn",
   "language": "python",
   "name": "python3"
  },
  "language_info": {
   "codemirror_mode": {
    "name": "ipython",
    "version": 3
   },
   "file_extension": ".py",
   "mimetype": "text/x-python",
   "name": "python",
   "nbconvert_exporter": "python",
   "pygments_lexer": "ipython3",
   "version": "3.12.11"
  }
 },
 "nbformat": 4,
 "nbformat_minor": 5
}
